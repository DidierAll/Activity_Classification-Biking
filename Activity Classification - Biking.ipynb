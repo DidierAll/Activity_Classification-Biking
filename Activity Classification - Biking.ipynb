{
 "cells": [
  {
   "cell_type": "markdown",
   "metadata": {},
   "source": [
    "# Exercise Classification during walking, running and biking"
   ]
  },
  {
   "cell_type": "markdown",
   "metadata": {},
   "source": [
    "## Summary"
   ]
  },
  {
   "cell_type": "markdown",
   "metadata": {},
   "source": [
    "This project make use of the \"Wrist PPG During Exercise\" dataset in physionet\n",
    "\n",
    "https://physionet.org/content/wrist/1.0.0/\n",
    "\n",
    "This dataset contains wrist PPGs, accelerometers and gyroscopes recorded during walking, running and bike riding. The data was recorded from 8 participants (3 male, 5 female), aged 22--32 (mean 26.5). \n",
    "\n",
    "This project is only using the accelerometers data to classify activities between walking, running and low resistance biking only."
   ]
  },
  {
   "cell_type": "markdown",
   "metadata": {},
   "source": [
    "## Data Exploration "
   ]
  },
  {
   "cell_type": "markdown",
   "metadata": {},
   "source": [
    "First let's explore the data..."
   ]
  },
  {
   "cell_type": "markdown",
   "metadata": {},
   "source": [
    "### Imports"
   ]
  },
  {
   "cell_type": "code",
   "execution_count": 1,
   "metadata": {},
   "outputs": [],
   "source": [
    "import collections\n",
    "import glob\n",
    "import os\n",
    "\n",
    "from matplotlib import pyplot as plt\n",
    "import numpy as np\n",
    "import pandas as pd\n",
    "import scipy as sp\n",
    "import scipy.signal\n",
    "import seaborn as sns"
   ]
  },
  {
   "cell_type": "markdown",
   "metadata": {},
   "source": [
    "### Examine The Files"
   ]
  },
  {
   "cell_type": "code",
   "execution_count": 4,
   "metadata": {},
   "outputs": [
    {
     "name": "stdout",
     "output_type": "stream",
     "text": [
      "Number of files: 17\n"
     ]
    },
    {
     "data": {
      "text/plain": [
       "['s1_bike_0',\n",
       " 's1_bike_1',\n",
       " 's1_walk',\n",
       " 's2_bike_0',\n",
       " 's2_bike_1',\n",
       " 's2_walk',\n",
       " 's3_bike_0',\n",
       " 's3_bike_1',\n",
       " 's3_run',\n",
       " 's3_walk',\n",
       " 's4_run',\n",
       " 's5_run',\n",
       " 's6_run',\n",
       " 's6_walk',\n",
       " 's8_run',\n",
       " 's8_walk',\n",
       " 's9_walk']"
      ]
     },
     "execution_count": 4,
     "metadata": {},
     "output_type": "execute_result"
    }
   ],
   "source": [
    "data_dir = 'data/'\n",
    "filenames = [os.path.splitext(f)[0] for f in sorted(os.listdir(data_dir))]\n",
    "fs = 256\n",
    "print('Number of files: ' + str(len(filenames)))\n",
    "filenames"
   ]
  },
  {
   "cell_type": "code",
   "execution_count": 11,
   "metadata": {},
   "outputs": [
    {
     "data": {
      "text/plain": [
       "{'bike': 3, 'walk': 6, 'run': 5}"
      ]
     },
     "execution_count": 11,
     "metadata": {},
     "output_type": "execute_result"
    }
   ],
   "source": [
    "subjects_per_class = collections.defaultdict(set)\n",
    "for f in filenames:\n",
    "    subject = f.split('_')[0]\n",
    "    activity = f.split('_')[1]\n",
    "    subjects_per_class[activity].add(subject)\n",
    "    \n",
    "{k: len(v) for k, v in subjects_per_class.items()}"
   ]
  },
  {
   "cell_type": "markdown",
   "metadata": {},
   "source": [
    "In summary, we have 17 files organized by subject_activity.  \n",
    "\n",
    "Some subjects have two bike datasets  \n",
    "First 2 subjects have no run  \n",
    "S3 is the only one that has all 4 classes  \n",
    "S4 and S5 only have run  \n",
    "S6 and S8 don't have bike  \n",
    "S9 only has walk\n",
    "\n",
    "The main concerns are\n",
    "1. The number of subjects is low (N=8)\n",
    "2. Not all subjects have performed all 3 activities with an imbalance in terms of number of representation of each class per subject. Thish may leads to some problems during the leave-one-subject-out cross validation. Our models could be biased towards the class that occurs more often in the training set. \n",
    "\n",
    " "
   ]
  },
  {
   "cell_type": "markdown",
   "metadata": {},
   "source": [
    "### Load the data"
   ]
  },
  {
   "cell_type": "code",
   "execution_count": 5,
   "metadata": {},
   "outputs": [
    {
     "data": {
      "text/plain": [
       "DescribeResult(nobs=17, minmax=(3.65, 9.8), mean=6.087051930147059, variance=3.701484939724792, skewness=1.0699974180917178, kurtosis=-0.14716069171995239)"
      ]
     },
     "execution_count": 5,
     "metadata": {},
     "output_type": "execute_result"
    }
   ],
   "source": [
    "subjects_per_class = collections.defaultdict(set)\n",
    "# data creates a list of [subject, activity, accelerometer data]\n",
    "data = []\n",
    "# df_data will hold the restructured data in a single dataframe table\n",
    "# to be used with seaborn plotting functions\n",
    "df_data = [] \n",
    "for f in filenames:\n",
    "    subject = f.split('_')[0]\n",
    "    activity = f.split('_')[1]\n",
    "    subjects_per_class[activity].add(subject)\n",
    "    path = os.path.join(data_dir, f + '.csv')\n",
    "    df = pd.read_csv(path)\n",
    "    df = df.loc[: df.last_valid_index()]\n",
    "    data.append((subject, activity, df))\n",
    "    df_tmp = pd.melt(df,var_name='directions',value_name='acc')\n",
    "    df_tmp = pd.concat([pd.DataFrame({'subject': np.repeat(subject,len(df_tmp)),'activity': np.repeat(activity,len(df_tmp))}),\n",
    "                        df_tmp],axis=1)\n",
    "    if len(df_data)==0:\n",
    "        df_data=df_tmp\n",
    "    else: \n",
    "        df_data = pd.concat([df_data,df_tmp],ignore_index='True')\n",
    "    \n"
   ]
  },
  {
   "cell_type": "markdown",
   "metadata": {},
   "source": [
    "Provide a descriptive statistics on the duration of the recordings"
   ]
  },
  {
   "cell_type": "code",
   "execution_count": 13,
   "metadata": {},
   "outputs": [
    {
     "name": "stdout",
     "output_type": "stream",
     "text": [
      "This gives descriptive on duration of recordings:\n",
      "\n",
      "DescribeResult(nobs=17, minmax=(3.65, 9.8), mean=6.087051930147059, variance=3.701484939724792, skewness=1.0699974180917178, kurtosis=-0.14716069171995239)\n"
     ]
    },
    {
     "data": {
      "text/html": [
       "<div>\n",
       "<style scoped>\n",
       "    .dataframe tbody tr th:only-of-type {\n",
       "        vertical-align: middle;\n",
       "    }\n",
       "\n",
       "    .dataframe tbody tr th {\n",
       "        vertical-align: top;\n",
       "    }\n",
       "\n",
       "    .dataframe thead th {\n",
       "        text-align: right;\n",
       "    }\n",
       "</style>\n",
       "<table border=\"1\" class=\"dataframe\">\n",
       "  <thead>\n",
       "    <tr style=\"text-align: right;\">\n",
       "      <th></th>\n",
       "      <th>accx</th>\n",
       "      <th>accy</th>\n",
       "      <th>accz</th>\n",
       "    </tr>\n",
       "  </thead>\n",
       "  <tbody>\n",
       "    <tr>\n",
       "      <th>0</th>\n",
       "      <td>3.791152</td>\n",
       "      <td>-9.329793</td>\n",
       "      <td>1.622757</td>\n",
       "    </tr>\n",
       "    <tr>\n",
       "      <th>1</th>\n",
       "      <td>3.791152</td>\n",
       "      <td>-9.329285</td>\n",
       "      <td>1.646969</td>\n",
       "    </tr>\n",
       "    <tr>\n",
       "      <th>2</th>\n",
       "      <td>3.791366</td>\n",
       "      <td>-9.304383</td>\n",
       "      <td>1.695834</td>\n",
       "    </tr>\n",
       "    <tr>\n",
       "      <th>3</th>\n",
       "      <td>3.767274</td>\n",
       "      <td>-9.267029</td>\n",
       "      <td>1.732482</td>\n",
       "    </tr>\n",
       "    <tr>\n",
       "      <th>4</th>\n",
       "      <td>3.780279</td>\n",
       "      <td>-9.194481</td>\n",
       "      <td>1.770231</td>\n",
       "    </tr>\n",
       "  </tbody>\n",
       "</table>\n",
       "</div>"
      ],
      "text/plain": [
       "       accx      accy      accz\n",
       "0  3.791152 -9.329793  1.622757\n",
       "1  3.791152 -9.329285  1.646969\n",
       "2  3.791366 -9.304383  1.695834\n",
       "3  3.767274 -9.267029  1.732482\n",
       "4  3.780279 -9.194481  1.770231"
      ]
     },
     "execution_count": 13,
     "metadata": {},
     "output_type": "execute_result"
    }
   ],
   "source": [
    "# descriptive stats on duration of each recording\n",
    "print(sp.stats.describe([len(df[2])/60/fs for df in data]))\n",
    "\n",
    " \n",
    "df.head()"
   ]
  },
  {
   "cell_type": "markdown",
   "metadata": {},
   "source": [
    "Each Recording is about 4-10 min long!"
   ]
  },
  {
   "cell_type": "markdown",
   "metadata": {},
   "source": [
    "Plot the number of datapoints per class to get a better idea of the class imbalance."
   ]
  },
  {
   "cell_type": "code",
   "execution_count": 16,
   "metadata": {},
   "outputs": [],
   "source": [
    "%matplotlib inline"
   ]
  },
  {
   "cell_type": "code",
   "execution_count": 20,
   "metadata": {},
   "outputs": [
    {
     "data": {
      "image/png": "[encoded data removed]",
      "text/plain": [
       "<Figure size 864x576 with 1 Axes>"
      ]
     },
     "metadata": {
      "needs_background": "light"
     },
     "output_type": "display_data"
    }
   ],
   "source": [
    "samples_per_class = collections.defaultdict(int)\n",
    "for subject, activity, df in data:\n",
    "    samples_per_class[activity] += len(df)\n",
    "    \n",
    "\n",
    "activity, n_samples = list(zip(*samples_per_class.items()))\n",
    "plt.figure(figsize=(6, 4))\n",
    "plt.bar(range(3), n_samples)\n",
    "plt.xticks(range(3), activity);\n",
    "plt.title('Number of samples per activity')"
   ]
  },
  {
   "cell_type": "markdown",
   "metadata": {},
   "source": [
    "Plot distribution of the data"
   ]
  },
  {
   "cell_type": "code",
   "execution_count": 14,
   "metadata": {},
   "outputs": [
    {
     "data": {
      "text/plain": [
       "<Figure size 432x288 with 0 Axes>"
      ]
     },
     "metadata": {},
     "output_type": "display_data"
    },
    {
     "data": {
      "image/png": "[encoded data removed]",
      "text/plain": [
       "<Figure size 706.875x216 with 3 Axes>"
      ]
     },
     "metadata": {
      "needs_background": "light"
     },
     "output_type": "display_data"
    },
    {
     "data": {
      "image/png": "[encoded data removed]",
      "text/plain": [
       "<Figure size 432x288 with 1 Axes>"
      ]
     },
     "metadata": {
      "needs_background": "light"
     },
     "output_type": "display_data"
    }
   ],
   "source": [
    "# Plotting by combining subjects data\n",
    "plt.figure(figsize=(6, 4))\n",
    "g = sns.FacetGrid(df_data.drop(columns=[\"subject\"]), col=\"directions\", hue=\"activity\")\n",
    "g.map(sns.kdeplot, \"acc\", multiple=\"stack\")\n",
    "g.add_legend()\n",
    "g.set(xlim=(-20, 20))\n",
    "\n",
    "plt.figure(figsize=(6, 4))\n",
    "ax = sns.violinplot(x=\"directions\", y=\"acc\", hue=\"activity\",\n",
    "                    data=df_data.drop(columns=[\"subject\"]),inner='quartile', width=0.8, linewidth=0.5)\n"
   ]
  },
  {
   "cell_type": "markdown",
   "metadata": {},
   "source": [
    "## Plotting the Raw Data"
   ]
  },
  {
   "cell_type": "markdown",
   "metadata": {},
   "source": [
    "Using magic function to have an interactive plot. Then plot data for each recordings; must press a key to go to next recording"
   ]
  },
  {
   "cell_type": "code",
   "execution_count": 15,
   "metadata": {},
   "outputs": [
    {
     "name": "stdout",
     "output_type": "stream",
     "text": [
      "Using matplotlib backend: Qt5Agg\n"
     ]
    }
   ],
   "source": [
    "%matplotlib auto\n"
   ]
  },
  {
   "cell_type": "code",
   "execution_count": 16,
   "metadata": {},
   "outputs": [],
   "source": [
    "for subject, activity, df in sorted(data, key=lambda x: x[1]):\n",
    "    ts = np.arange(len(df)) / fs\n",
    "    plt.clf() \n",
    "    plt.plot(ts, df.accx, label='x')\n",
    "    plt.plot(ts, df.accy, label='y')\n",
    "    plt.plot(ts, df.accz, label='z')\n",
    "    plt.title('{}_{}'.format(subject, activity))\n",
    "    plt.legend()\n",
    "    plt.ylim((-25, 25))\n",
    "    plt.draw() \n",
    "    plt.show()\n",
    "    #plt.pause(10)\n",
    "    # wait for user input (key); can still use mouse button\n",
    "    while not plt.waitforbuttonpress(timeout=1):\n",
    "        pass"
   ]
  },
  {
   "cell_type": "markdown",
   "metadata": {},
   "source": [
    " For some recordings, data shows large discontinuity as the data distribution plots above seems to suggest. High pass filtering may be necessary and features may need to be independent of offset/mean"
   ]
  },
  {
   "cell_type": "code",
   "execution_count": null,
   "metadata": {},
   "outputs": [],
   "source": []
  }
 ],
 "metadata": {
  "kernelspec": {
   "display_name": "Python 3 (ipykernel)",
   "language": "python",
   "name": "python3"
  },
  "language_info": {
   "codemirror_mode": {
    "name": "ipython",
    "version": 3
   },
   "file_extension": ".py",
   "mimetype": "text/x-python",
   "name": "python",
   "nbconvert_exporter": "python",
   "pygments_lexer": "ipython3",
   "version": "3.9.7"
  }
 },
 "nbformat": 4,
 "nbformat_minor": 2
}
